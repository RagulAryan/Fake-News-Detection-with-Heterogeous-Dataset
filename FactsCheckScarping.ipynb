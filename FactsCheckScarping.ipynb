{
 "cells": [
  {
   "cell_type": "code",
   "execution_count": 27,
   "metadata": {},
   "outputs": [
    {
     "name": "stdout",
     "output_type": "stream",
     "text": [
      "processing page : 1\n",
      "https://www.politifact.com/factchecks/list/?page=1\n",
      "processing page : 2\n",
      "https://www.politifact.com/factchecks/list/?page=2\n",
      "processing page : 3\n",
      "https://www.politifact.com/factchecks/list/?page=3\n",
      "processing page : 4\n",
      "https://www.politifact.com/factchecks/list/?page=4\n",
      "processing page : 5\n",
      "https://www.politifact.com/factchecks/list/?page=5\n",
      "processing page : 6\n",
      "https://www.politifact.com/factchecks/list/?page=6\n",
      "processing page : 7\n",
      "https://www.politifact.com/factchecks/list/?page=7\n",
      "processing page : 8\n",
      "https://www.politifact.com/factchecks/list/?page=8\n",
      "processing page : 9\n",
      "https://www.politifact.com/factchecks/list/?page=9\n",
      "processing page : 10\n",
      "https://www.politifact.com/factchecks/list/?page=10\n"
     ]
    }
   ],
   "source": [
    "import urllib.request,sys,time\n",
    "from bs4 import BeautifulSoup\n",
    "import requests\n",
    "import pandas as pd\n",
    "\n",
    "pagesToGet= 10\n",
    "\n",
    "upperframe=[]  \n",
    "for page in range(1,pagesToGet+1):\n",
    "    print('processing page :', page)\n",
    "    url = 'https://www.politifact.com/factchecks/list/?page='+str(page)\n",
    "    print(url)  "
   ]
  },
  {
   "cell_type": "code",
   "execution_count": 28,
   "metadata": {},
   "outputs": [
    {
     "name": "stdout",
     "output_type": "stream",
     "text": [
      "30\n"
     ]
    }
   ],
   "source": [
    "try:\n",
    "    page=requests.get(url)                             \n",
    "except Exception as e:                                   \n",
    "    error_type, error_obj, error_info = sys.exc_info()   \n",
    "    print ('ERROR FOR LINK:',url)                        \n",
    "    print (error_type, 'Line:', error_info.tb_lineno)\n",
    "time.sleep(2)   \n",
    "soup=BeautifulSoup(page.text,'html.parser')\n",
    "frame=[]\n",
    "links=soup.find_all('li',attrs={'class':'o-listicle__item'})\n",
    "print(len(links))"
   ]
  },
  {
   "cell_type": "code",
   "execution_count": 29,
   "metadata": {},
   "outputs": [
    {
     "data": {
      "text/html": [
       "<div>\n",
       "<style scoped>\n",
       "    .dataframe tbody tr th:only-of-type {\n",
       "        vertical-align: middle;\n",
       "    }\n",
       "\n",
       "    .dataframe tbody tr th {\n",
       "        vertical-align: top;\n",
       "    }\n",
       "\n",
       "    .dataframe thead th {\n",
       "        text-align: right;\n",
       "    }\n",
       "</style>\n",
       "<table border=\"1\" class=\"dataframe\">\n",
       "  <thead>\n",
       "    <tr style=\"text-align: right;\">\n",
       "      <th></th>\n",
       "      <th>Text</th>\n",
       "      <th>Link</th>\n",
       "      <th>Date</th>\n",
       "      <th>Source</th>\n",
       "      <th>Label</th>\n",
       "    </tr>\n",
       "  </thead>\n",
       "  <tbody>\n",
       "    <tr>\n",
       "      <th>0</th>\n",
       "      <td>Like Al-Qaeda and ISIS, Amy Coney Barrett has ...</td>\n",
       "      <td>https://www.politifact.com/factchecks/2020/sep...</td>\n",
       "      <td>mber 27, 2020</td>\n",
       "      <td>Instagram posts</td>\n",
       "      <td>false</td>\n",
       "    </tr>\n",
       "    <tr>\n",
       "      <th>1</th>\n",
       "      <td>Like Al-Qaeda and ISIS, Amy Coney Barrett has ...</td>\n",
       "      <td>https://www.politifact.com/factchecks/2020/sep...</td>\n",
       "      <td>mber 27, 2020</td>\n",
       "      <td>Instagram posts</td>\n",
       "      <td>false</td>\n",
       "    </tr>\n",
       "    <tr>\n",
       "      <th>2</th>\n",
       "      <td>Says President Trump tweeted that it’s “not fa...</td>\n",
       "      <td>https://www.politifact.com/factchecks/2020/sep...</td>\n",
       "      <td>mber 27, 2020</td>\n",
       "      <td>Facebook posts</td>\n",
       "      <td>false</td>\n",
       "    </tr>\n",
       "    <tr>\n",
       "      <th>3</th>\n",
       "      <td>Like Al-Qaeda and ISIS, Amy Coney Barrett has ...</td>\n",
       "      <td>https://www.politifact.com/factchecks/2020/sep...</td>\n",
       "      <td>mber 27, 2020</td>\n",
       "      <td>Instagram posts</td>\n",
       "      <td>false</td>\n",
       "    </tr>\n",
       "    <tr>\n",
       "      <th>4</th>\n",
       "      <td>Says President Trump tweeted that it’s “not fa...</td>\n",
       "      <td>https://www.politifact.com/factchecks/2020/sep...</td>\n",
       "      <td>mber 27, 2020</td>\n",
       "      <td>Facebook posts</td>\n",
       "      <td>false</td>\n",
       "    </tr>\n",
       "  </tbody>\n",
       "</table>\n",
       "</div>"
      ],
      "text/plain": [
       "                                                Text  \\\n",
       "0  Like Al-Qaeda and ISIS, Amy Coney Barrett has ...   \n",
       "1  Like Al-Qaeda and ISIS, Amy Coney Barrett has ...   \n",
       "2  Says President Trump tweeted that it’s “not fa...   \n",
       "3  Like Al-Qaeda and ISIS, Amy Coney Barrett has ...   \n",
       "4  Says President Trump tweeted that it’s “not fa...   \n",
       "\n",
       "                                                Link           Date  \\\n",
       "0  https://www.politifact.com/factchecks/2020/sep...  mber 27, 2020   \n",
       "1  https://www.politifact.com/factchecks/2020/sep...  mber 27, 2020   \n",
       "2  https://www.politifact.com/factchecks/2020/sep...  mber 27, 2020   \n",
       "3  https://www.politifact.com/factchecks/2020/sep...  mber 27, 2020   \n",
       "4  https://www.politifact.com/factchecks/2020/sep...  mber 27, 2020   \n",
       "\n",
       "            Source  Label  \n",
       "0  Instagram posts  false  \n",
       "1  Instagram posts  false  \n",
       "2   Facebook posts  false  \n",
       "3  Instagram posts  false  \n",
       "4   Facebook posts  false  "
      ]
     },
     "execution_count": 29,
     "metadata": {},
     "output_type": "execute_result"
    }
   ],
   "source": [
    "filename=\"NEWS.csv\"\n",
    "f=open(filename,\"w\", encoding = 'utf-8')\n",
    "headers=\"Statement,Link,Date, Source, Label\\n\"\n",
    "f.write(headers)\n",
    "\n",
    "for j in links:\n",
    "    Statement = j.find(\"div\",attrs={'class':'m-statement__quote'}).text.strip()\n",
    "    Link = \"https://www.politifact.com\"\n",
    "    Link += j.find(\"div\",attrs={'class':'m-statement__quote'}).find('a')['href'].strip()\n",
    "    Date = j.find('div',attrs={'class':'m-statement__body'}).find('footer').text[-14:-1].strip()\n",
    "    Source = j.find('div', attrs={'class':'m-statement__meta'}).find('a').text.strip()\n",
    "    Label = j.find('div', attrs ={'class':'m-statement__content'}).find('img',attrs={'class':'c-image__original'}).get('alt').strip()\n",
    "    frame.append((Statement,Link,Date,Source,Label))\n",
    "    f.write(Statement.replace(\",\",\"^\")+\",\"+Link+\",\"+Date.replace(\",\",\"^\")+\",\"+Source.replace(\",\",\"^\")+\",\"+Label.replace(\",\",\"^\")+\"\\n\")\n",
    "    upperframe.extend(frame)\n",
    "f.close()\n",
    "data=pd.DataFrame(upperframe, columns=['Text','Link','Date','Source','Label'])\n",
    "data.head()"
   ]
  },
  {
   "cell_type": "code",
   "execution_count": 30,
   "metadata": {},
   "outputs": [
    {
     "data": {
      "text/plain": [
       "Text      465\n",
       "Link      465\n",
       "Date      465\n",
       "Source    465\n",
       "Label     465\n",
       "dtype: int64"
      ]
     },
     "execution_count": 30,
     "metadata": {},
     "output_type": "execute_result"
    }
   ],
   "source": [
    "data.count()"
   ]
  },
  {
   "cell_type": "code",
   "execution_count": 35,
   "metadata": {},
   "outputs": [],
   "source": [
    "df=data.drop(['Link', 'Date',\"Source\"],axis=1)"
   ]
  },
  {
   "cell_type": "code",
   "execution_count": 36,
   "metadata": {},
   "outputs": [
    {
     "data": {
      "text/html": [
       "<div>\n",
       "<style scoped>\n",
       "    .dataframe tbody tr th:only-of-type {\n",
       "        vertical-align: middle;\n",
       "    }\n",
       "\n",
       "    .dataframe tbody tr th {\n",
       "        vertical-align: top;\n",
       "    }\n",
       "\n",
       "    .dataframe thead th {\n",
       "        text-align: right;\n",
       "    }\n",
       "</style>\n",
       "<table border=\"1\" class=\"dataframe\">\n",
       "  <thead>\n",
       "    <tr style=\"text-align: right;\">\n",
       "      <th></th>\n",
       "      <th>Text</th>\n",
       "      <th>Label</th>\n",
       "    </tr>\n",
       "  </thead>\n",
       "  <tbody>\n",
       "    <tr>\n",
       "      <th>0</th>\n",
       "      <td>Like Al-Qaeda and ISIS, Amy Coney Barrett has ...</td>\n",
       "      <td>false</td>\n",
       "    </tr>\n",
       "    <tr>\n",
       "      <th>1</th>\n",
       "      <td>Like Al-Qaeda and ISIS, Amy Coney Barrett has ...</td>\n",
       "      <td>false</td>\n",
       "    </tr>\n",
       "    <tr>\n",
       "      <th>2</th>\n",
       "      <td>Says President Trump tweeted that it’s “not fa...</td>\n",
       "      <td>false</td>\n",
       "    </tr>\n",
       "    <tr>\n",
       "      <th>3</th>\n",
       "      <td>Like Al-Qaeda and ISIS, Amy Coney Barrett has ...</td>\n",
       "      <td>false</td>\n",
       "    </tr>\n",
       "    <tr>\n",
       "      <th>4</th>\n",
       "      <td>Says President Trump tweeted that it’s “not fa...</td>\n",
       "      <td>false</td>\n",
       "    </tr>\n",
       "  </tbody>\n",
       "</table>\n",
       "</div>"
      ],
      "text/plain": [
       "                                                Text  Label\n",
       "0  Like Al-Qaeda and ISIS, Amy Coney Barrett has ...  false\n",
       "1  Like Al-Qaeda and ISIS, Amy Coney Barrett has ...  false\n",
       "2  Says President Trump tweeted that it’s “not fa...  false\n",
       "3  Like Al-Qaeda and ISIS, Amy Coney Barrett has ...  false\n",
       "4  Says President Trump tweeted that it’s “not fa...  false"
      ]
     },
     "execution_count": 36,
     "metadata": {},
     "output_type": "execute_result"
    }
   ],
   "source": [
    "df.head()"
   ]
  },
  {
   "cell_type": "code",
   "execution_count": null,
   "metadata": {},
   "outputs": [],
   "source": []
  }
 ],
 "metadata": {
  "kernelspec": {
   "display_name": "Python 3",
   "language": "python",
   "name": "python3"
  },
  "language_info": {
   "codemirror_mode": {
    "name": "ipython",
    "version": 3
   },
   "file_extension": ".py",
   "mimetype": "text/x-python",
   "name": "python",
   "nbconvert_exporter": "python",
   "pygments_lexer": "ipython3",
   "version": "3.6.9"
  }
 },
 "nbformat": 4,
 "nbformat_minor": 2
}
