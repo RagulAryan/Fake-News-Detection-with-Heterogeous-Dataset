{
 "cells": [
  {
   "cell_type": "code",
   "execution_count": 46,
   "metadata": {},
   "outputs": [],
   "source": [
    "ytube=\"https://www.wikipedia.org/\""
   ]
  },
  {
   "cell_type": "code",
   "execution_count": 47,
   "metadata": {},
   "outputs": [
    {
     "name": "stdout",
     "output_type": "stream",
     "text": [
      "https://www.wikipedia.org/\n"
     ]
    }
   ],
   "source": [
    "print(ytube)"
   ]
  },
  {
   "cell_type": "code",
   "execution_count": 48,
   "metadata": {},
   "outputs": [],
   "source": [
    "from bs4 import BeautifulSoup\n",
    "import requests\n",
    "html=requests.get(ytube).text"
   ]
  },
  {
   "cell_type": "code",
   "execution_count": 49,
   "metadata": {},
   "outputs": [
    {
     "name": "stdout",
     "output_type": "stream",
     "text": [
      "<title>Wikipedia</title>\n"
     ]
    }
   ],
   "source": [
    "soup=BeautifulSoup(html)\n",
    "print(soup.title)"
   ]
  },
  {
   "cell_type": "code",
   "execution_count": 50,
   "metadata": {},
   "outputs": [],
   "source": [
    "import spacy\n",
    "\n",
    "nlp=spacy.load('en_core_web_sm')"
   ]
  },
  {
   "cell_type": "code",
   "execution_count": 55,
   "metadata": {},
   "outputs": [
    {
     "name": "stdout",
     "output_type": "stream",
     "text": [
      "Headlines: \n",
      "Wikipedia\n",
      "\n",
      "Headlines: articles\n",
      "Headlines: è¨äº\n",
      "Headlines: artÃ­culos\n",
      "Headlines: Artikel\n",
      "Headlines: ÑÑÐ°ÑÐµÐ¹\n",
      "Headlines: articles\n",
      "Headlines: voci\n",
      "Headlines: æ¢ç®\n",
      "Headlines: artigos\n",
      "Headlines: haseÅ\n",
      "Headlines: Read Wikipedia in your language \n",
      "Headlines: \n",
      "\n",
      "\n",
      "1 000 000+\n",
      "\n",
      "\n",
      "articles\n",
      "\n",
      "\n",
      "\n",
      "Headlines: \n",
      "\n",
      "1 000 000+\n",
      "\n",
      "\n",
      "articles\n",
      "\n",
      "\n",
      "Headlines: \n",
      "articles\n",
      "\n",
      "Headlines: \n",
      "\n",
      "\n",
      "100 000+\n",
      "\n",
      "\n",
      "articles\n",
      "\n",
      "\n",
      "\n",
      "Headlines: \n",
      "\n",
      "100 000+\n",
      "\n",
      "\n",
      "articles\n",
      "\n",
      "\n",
      "Headlines: \n",
      "articles\n",
      "\n",
      "Headlines: ÒÐ°Ð·Ð°ÒÑÐ°\n",
      "Headlines: QazaqÅa\n",
      "Headlines: \n",
      "\n",
      "\n",
      "10 000+\n",
      "\n",
      "\n",
      "articles\n",
      "\n",
      "\n",
      "\n",
      "Headlines: \n",
      "\n",
      "10 000+\n",
      "\n",
      "\n",
      "articles\n",
      "\n",
      "\n",
      "Headlines: \n",
      "articles\n",
      "\n",
      "Headlines: KurdÃ®\n",
      "Headlines: \n",
      "\n",
      "\n",
      "1 000+\n",
      "\n",
      "\n",
      "articles\n",
      "\n",
      "\n",
      "\n",
      "Headlines: \n",
      "\n",
      "1 000+\n",
      "\n",
      "\n",
      "articles\n",
      "\n",
      "\n",
      "Headlines: \n",
      "articles\n",
      "\n",
      "Headlines: Hausa\n",
      "Headlines: Dzhudezmo\n",
      "Headlines: \n",
      "\n",
      "\n",
      "100+\n",
      "\n",
      "\n",
      "articles\n",
      "\n",
      "\n",
      "\n",
      "Headlines: \n",
      "\n",
      "100+\n",
      "\n",
      "\n",
      "articles\n",
      "\n",
      "\n",
      "Headlines: \n",
      "articles\n",
      "\n",
      "Headlines: \n",
      "\n",
      "Headlines: \n",
      "\n",
      "Headlines: Commons\n",
      "Headlines: Freely usable photos & more\n",
      "Headlines: Wikivoyage\n",
      "Headlines: Free travel guide\n",
      "Headlines: Wiktionary\n",
      "Headlines: Free dictionary\n",
      "Headlines: Wikibooks\n",
      "Headlines: Free textbooks\n",
      "Headlines: Wikinews\n",
      "Headlines: Free news source\n",
      "Headlines: Wikidata\n",
      "Headlines: Free knowledge base\n",
      "Headlines: Wikiversity\n",
      "Headlines: Free course materials\n",
      "Headlines: Wikiquote\n",
      "Headlines: Free quote compendium\n",
      "Headlines: MediaWiki\n",
      "Headlines: Free & open wiki application\n",
      "Headlines: Wikisource\n",
      "Headlines: Free library\n",
      "Headlines: Wikispecies\n",
      "Headlines: Free species directory\n",
      "Headlines: Meta-Wiki\n",
      "Headlines: Community coordination & documentation\n"
     ]
    }
   ],
   "source": [
    "for link in soup.find_all(\"span\"):\n",
    "    print(\"Headlines: {}\".format(link.text))"
   ]
  },
  {
   "cell_type": "code",
   "execution_count": null,
   "metadata": {},
   "outputs": [],
   "source": []
  }
 ],
 "metadata": {
  "kernelspec": {
   "display_name": "Python 3",
   "language": "python",
   "name": "python3"
  },
  "language_info": {
   "codemirror_mode": {
    "name": "ipython",
    "version": 3
   },
   "file_extension": ".py",
   "mimetype": "text/x-python",
   "name": "python",
   "nbconvert_exporter": "python",
   "pygments_lexer": "ipython3",
   "version": "3.6.9"
  }
 },
 "nbformat": 4,
 "nbformat_minor": 2
}
